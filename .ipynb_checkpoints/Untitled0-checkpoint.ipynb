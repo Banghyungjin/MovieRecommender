{
 "cells": [
  {
   "cell_type": "code",
   "execution_count": 1,
   "metadata": {
    "executionInfo": {
     "elapsed": 297,
     "status": "ok",
     "timestamp": 1625463642983,
     "user": {
      "displayName": "Gary Kim",
      "photoUrl": "",
      "userId": "11242377838175923659"
     },
     "user_tz": -540
    },
    "id": "VZmCanfWLc6U"
   },
   "outputs": [],
   "source": [
    "import requests\n",
    "from bs4 import BeautifulSoup\n",
    "import re"
   ]
  },
  {
   "cell_type": "markdown",
   "metadata": {
    "id": "YQ5_83BKeB2F"
   },
   "source": [
    "## 1. naver 영화 url 가져오기\n",
    "\n"
   ]
  },
  {
   "cell_type": "code",
   "execution_count": 2,
   "metadata": {
    "colab": {
     "base_uri": "https://localhost:8080/"
    },
    "executionInfo": {
     "elapsed": 1418,
     "status": "ok",
     "timestamp": 1625467365067,
     "user": {
      "displayName": "Gary Kim",
      "photoUrl": "",
      "userId": "11242377838175923659"
     },
     "user_tz": -540
    },
    "id": "al6XMSBqLfRW",
    "outputId": "3bf7c161-a398-4005-e5db-1c649d797aa2"
   },
   "outputs": [
    {
     "ename": "FeatureNotFound",
     "evalue": "Couldn't find a tree builder with the features you requested: html5lib. Do you need to install a parser library?",
     "output_type": "error",
     "traceback": [
      "\u001b[1;31m---------------------------------------------------------------------------\u001b[0m",
      "\u001b[1;31mFeatureNotFound\u001b[0m                           Traceback (most recent call last)",
      "\u001b[1;32m<ipython-input-2-e1530356c78a>\u001b[0m in \u001b[0;36m<module>\u001b[1;34m\u001b[0m\n\u001b[0;32m      1\u001b[0m \u001b[0mres\u001b[0m \u001b[1;33m=\u001b[0m \u001b[0mrequests\u001b[0m\u001b[1;33m.\u001b[0m\u001b[0mget\u001b[0m\u001b[1;33m(\u001b[0m\u001b[1;34m\"http://movie.naver.com/movie/point/af/list.nhn\"\u001b[0m\u001b[1;33m)\u001b[0m\u001b[1;33m\u001b[0m\u001b[1;33m\u001b[0m\u001b[0m\n\u001b[1;32m----> 2\u001b[1;33m \u001b[0msoup\u001b[0m \u001b[1;33m=\u001b[0m \u001b[0mBeautifulSoup\u001b[0m\u001b[1;33m(\u001b[0m\u001b[0mres\u001b[0m\u001b[1;33m.\u001b[0m\u001b[0mtext\u001b[0m \u001b[1;33m,\u001b[0m \u001b[1;34m'html5lib'\u001b[0m\u001b[1;33m)\u001b[0m\u001b[1;33m\u001b[0m\u001b[1;33m\u001b[0m\u001b[0m\n\u001b[0m\u001b[0;32m      3\u001b[0m \u001b[1;33m\u001b[0m\u001b[0m\n\u001b[0;32m      4\u001b[0m \u001b[0mmovie_links\u001b[0m \u001b[1;33m=\u001b[0m \u001b[0msoup\u001b[0m\u001b[1;33m.\u001b[0m\u001b[0mselect\u001b[0m\u001b[1;33m(\u001b[0m\u001b[1;34m'a[href]'\u001b[0m\u001b[1;33m)\u001b[0m\u001b[1;33m\u001b[0m\u001b[1;33m\u001b[0m\u001b[0m\n\u001b[0;32m      5\u001b[0m \u001b[1;33m\u001b[0m\u001b[0m\n",
      "\u001b[1;32mc:\\users\\bangh\\appdata\\local\\programs\\python\\python38\\lib\\site-packages\\bs4\\__init__.py\u001b[0m in \u001b[0;36m__init__\u001b[1;34m(self, markup, features, builder, parse_only, from_encoding, exclude_encodings, element_classes, **kwargs)\u001b[0m\n\u001b[0;32m    241\u001b[0m             \u001b[0mbuilder_class\u001b[0m \u001b[1;33m=\u001b[0m \u001b[0mbuilder_registry\u001b[0m\u001b[1;33m.\u001b[0m\u001b[0mlookup\u001b[0m\u001b[1;33m(\u001b[0m\u001b[1;33m*\u001b[0m\u001b[0mfeatures\u001b[0m\u001b[1;33m)\u001b[0m\u001b[1;33m\u001b[0m\u001b[1;33m\u001b[0m\u001b[0m\n\u001b[0;32m    242\u001b[0m             \u001b[1;32mif\u001b[0m \u001b[0mbuilder_class\u001b[0m \u001b[1;32mis\u001b[0m \u001b[1;32mNone\u001b[0m\u001b[1;33m:\u001b[0m\u001b[1;33m\u001b[0m\u001b[1;33m\u001b[0m\u001b[0m\n\u001b[1;32m--> 243\u001b[1;33m                 raise FeatureNotFound(\n\u001b[0m\u001b[0;32m    244\u001b[0m                     \u001b[1;34m\"Couldn't find a tree builder with the features you \"\u001b[0m\u001b[1;33m\u001b[0m\u001b[1;33m\u001b[0m\u001b[0m\n\u001b[0;32m    245\u001b[0m                     \u001b[1;34m\"requested: %s. Do you need to install a parser library?\"\u001b[0m\u001b[1;33m\u001b[0m\u001b[1;33m\u001b[0m\u001b[0m\n",
      "\u001b[1;31mFeatureNotFound\u001b[0m: Couldn't find a tree builder with the features you requested: html5lib. Do you need to install a parser library?"
     ]
    }
   ],
   "source": [
    "res = requests.get(\"http://movie.naver.com/movie/point/af/list.nhn\")\n",
    "soup = BeautifulSoup(res.text , 'html5lib')\n",
    "\n",
    "movie_links = soup.select('a[href]')\n",
    "\n",
    "movie_links_list = []\n",
    "\n",
    "for link in movie_links:\n",
    "  if re.search(r'st=mcode&sword' and r'&target=after', link['href']):\n",
    "    target_url = r'http://movie.naver.com/movie/point/af/list.nhn'+str(link['href'])\n",
    "    movie_links_list.append(target_url)\n",
    "    print(target_url)"
   ]
  },
  {
   "cell_type": "markdown",
   "metadata": {
    "id": "KbuBk8HDeVMU"
   },
   "source": [
    "## 2. 영화 url를 접속한 후 장르 가져오기"
   ]
  },
  {
   "cell_type": "code",
   "execution_count": null,
   "metadata": {
    "colab": {
     "base_uri": "https://localhost:8080/"
    },
    "executionInfo": {
     "elapsed": 10808,
     "status": "ok",
     "timestamp": 1625467575491,
     "user": {
      "displayName": "Gary Kim",
      "photoUrl": "",
      "userId": "11242377838175923659"
     },
     "user_tz": -540
    },
    "id": "gHao9XMLMV2F",
    "outputId": "e10512d1-b1c5-4d40-ec6e-a0435e1946eb"
   },
   "outputs": [],
   "source": [
    "res = requests.get('http://movie.naver.com/movie/point/af/list.nhn?st=mcode&sword=189050&target=after')\n",
    "print(movie_links_list)\n",
    "\n",
    "genre_list=[]\n",
    "\n",
    "for movie_url in movie_links_list:\n",
    "  res = requests.get(movie_url)\n",
    "  content = res.text\n",
    "  soup = BeautifulSoup(content , 'html5lib')\n",
    "  genre = soup.find_all('table', class_='info_area')\n",
    "\n",
    "  for genre in genre:\n",
    "    genre_list.append(genre.a.get_text())\n",
    "    # print(genre.a.get_text())\n",
    "print(genre_list)"
   ]
  },
  {
   "cell_type": "markdown",
   "metadata": {
    "id": "vfYNQJYxegxF"
   },
   "source": [
    "## 3. naver 영화에서 평가등을 한 유저정보 가져오기"
   ]
  },
  {
   "cell_type": "code",
   "execution_count": null,
   "metadata": {
    "colab": {
     "base_uri": "https://localhost:8080/"
    },
    "executionInfo": {
     "elapsed": 1504,
     "status": "ok",
     "timestamp": 1625469961729,
     "user": {
      "displayName": "Gary Kim",
      "photoUrl": "",
      "userId": "11242377838175923659"
     },
     "user_tz": -540
    },
    "id": "lGlazADBTr_V",
    "outputId": "808dfc44-dbd4-4dc7-8395-6d043846921b"
   },
   "outputs": [],
   "source": [
    "res = requests.get(\"http://movie.naver.com/movie/point/af/list.nhn?st=mcode&sword=187322&target=after\")\n",
    "content = res.text\n",
    "\n",
    "soup = BeautifulSoup(content, 'html5lib')\n",
    "\n",
    "page_links = soup.select('a[href]')\n",
    "page_link_list = []\n",
    "\n",
    "for link in page_links:\n",
    "  if re.search(r'&target=after', link['href']):\n",
    "    target_url='http://movie.naver.com'+str(link['href'])\n",
    "    page_link_list.append(target_url)\n",
    "print(page_link_list)\n",
    "\n"
   ]
  },
  {
   "cell_type": "code",
   "execution_count": null,
   "metadata": {
    "executionInfo": {
     "elapsed": 290,
     "status": "ok",
     "timestamp": 1625470878340,
     "user": {
      "displayName": "Gary Kim",
      "photoUrl": "",
      "userId": "11242377838175923659"
     },
     "user_tz": -540
    },
    "id": "b7gMg2AmnM9t"
   },
   "outputs": [],
   "source": [
    "def get_movie_link(url):\n",
    "  res = requests.get(url)\n",
    "  soup = BeautifulSoup(res.text , 'html5lib')\n",
    "\n",
    "  movie_links = soup.select('a[href]')\n",
    "\n",
    "  movie_links_list = []\n",
    "\n",
    "  for link in movie_links:\n",
    "    if re.search(r'st=mcode&sword' and r'&target=after', link['href']):\n",
    "      target_url = r'http://movie.naver.com/movie/point/af/list.nhn'+str(link['href'])\n",
    "      movie_links_list.append(target_url)\n",
    "\n",
    "  return movie_links_list\n",
    "\n",
    "\n",
    "def genre_list(url):\n",
    "  movie_links_list = get_movie_link(url)\n",
    "  genre_list=[]\n",
    "  for movie_url in movie_links_list:\n",
    "    res = requests.get(movie_url)\n",
    "    content = res.text\n",
    "    soup = BeautifulSoup(content , 'html5lib')\n",
    "    genre = soup.find_all('table', class_='info_area')\n",
    "\n",
    "    for genre in genre:\n",
    "      genre_list.append(genre.a.get_text())\n",
    "      # print(genre.a.get_text())\n",
    "  return genre_list\n",
    "\n",
    "\n",
    "def get_user_list(url):\n",
    "  res = requests.get(url)\n",
    "  content = res.text\n",
    "\n",
    "  soup = BeautifulSoup(content, 'html5lib')\n",
    "\n",
    "  page_links = soup.select('a[href]')\n",
    "  page_link_list = []\n",
    "\n",
    "  for link in page_links:\n",
    "    if re.search(r'&target=after', link['href']):\n",
    "      target_url='http://movie.naver.com'+str(link['href'])\n",
    "      page_link_list.append(target_url)\n",
    "  if len(page_link_list) !=1:\n",
    "    pop_number = len(page_link_list)-1\n",
    "    page_link_list.pop(pop_number)\n",
    "\n",
    "  return page_link_list"
   ]
  },
  {
   "cell_type": "markdown",
   "metadata": {
    "id": "WsznzUgBmj4W"
   },
   "source": [
    "## 4. url 받아서 데이터를 크롤링 "
   ]
  },
  {
   "cell_type": "code",
   "execution_count": null,
   "metadata": {
    "colab": {
     "base_uri": "https://localhost:8080/",
     "height": 274
    },
    "executionInfo": {
     "elapsed": 1419,
     "status": "error",
     "timestamp": 1625471567119,
     "user": {
      "displayName": "Gary Kim",
      "photoUrl": "",
      "userId": "11242377838175923659"
     },
     "user_tz": -540
    },
    "id": "nHyLGwbDmrf0",
    "outputId": "73ecb3f4-1f4a-473b-8e87-1553d55d1102"
   },
   "outputs": [],
   "source": [
    "url_list = get_user_list('http://movie.naver.com/movie/point/af/list.nhn?st=mcode&sword=187322&target=after&page=1')\n",
    "\n",
    "if len(url_list) >=2:\n",
    "  for url in url_list:\n",
    "    print(url)\n",
    "    genre_list = genre_list(url)\n",
    "    print(genre_list)\n",
    "genre_list = genre_list('http://movie.naver.com/movie/point/af/list.nhn?st=mcode&sword=187322&target=after&page=1')\n"
   ]
  },
  {
   "cell_type": "code",
   "execution_count": null,
   "metadata": {
    "id": "LAXzjx5tnMcU"
   },
   "outputs": [],
   "source": []
  }
 ],
 "metadata": {
  "colab": {
   "authorship_tag": "ABX9TyOSVGglnADz0zdP4WIbtxBn",
   "name": "Untitled0.ipynb",
   "provenance": [],
   "toc_visible": true
  },
  "kernelspec": {
   "display_name": "Python 3",
   "language": "python",
   "name": "python3"
  },
  "language_info": {
   "codemirror_mode": {
    "name": "ipython",
    "version": 3
   },
   "file_extension": ".py",
   "mimetype": "text/x-python",
   "name": "python",
   "nbconvert_exporter": "python",
   "pygments_lexer": "ipython3",
   "version": "3.8.9"
  }
 },
 "nbformat": 4,
 "nbformat_minor": 1
}
